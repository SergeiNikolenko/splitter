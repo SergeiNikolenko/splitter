{
 "cells": [
  {
   "cell_type": "code",
   "execution_count": 3,
   "metadata": {},
   "outputs": [],
   "source": [
    "import datetime\n",
    "import pandas as pd\n",
    "from pathlib import Path\n",
    "from tqdm import tqdm\n",
    "from Bio.PDB.parse_pdb_header import parse_pdb_header\n",
    "from joblib import Parallel, delayed\n",
    "import subprocess\n",
    "from get_header_seq import get_seq_\n"
   ]
  },
  {
   "cell_type": "code",
   "execution_count": 4,
   "metadata": {},
   "outputs": [],
   "source": [
    "base_path = Path(\"/mnt/ligandpro/db/LPCE/final\")\n",
    "pdb_ids = [item.name for item in base_path.iterdir() if item.is_dir()]\n"
   ]
  },
  {
   "cell_type": "code",
   "execution_count": 5,
   "metadata": {},
   "outputs": [
    {
     "name": "stderr",
     "output_type": "stream",
     "text": [
      "100%|██████████| 39150/39150 [03:54<00:00, 167.14it/s]\n"
     ]
    }
   ],
   "source": [
    "header_dict = {}\n",
    "resolution_dict = {}\n",
    "date_dict = {}\n",
    "for pdb_id in tqdm(pdb_ids):\n",
    "    pdb_file = base_path / pdb_id / f\"{pdb_id}.pdb\"\n",
    "    try:\n",
    "        header_info = parse_pdb_header(str(pdb_file))\n",
    "        header_dict[pdb_id] = header_info.get(\"head\", \"\")\n",
    "        resolution_dict[pdb_id] = header_info.get(\"resolution\", None)\n",
    "        release_date = header_info.get(\"release_date\", \"\")\n",
    "        if release_date:\n",
    "            date_dict[pdb_id] = datetime.datetime.strptime(release_date, '%Y-%m-%d')\n",
    "        else:\n",
    "            date_dict[pdb_id] = None\n",
    "    except Exception as e:\n",
    "        print(f\"Error parsing header for {pdb_id}: {e}\")\n",
    "        header_dict[pdb_id] = \"\"\n",
    "        resolution_dict[pdb_id] = None\n",
    "        date_dict[pdb_id] = None\n"
   ]
  },
  {
   "cell_type": "code",
   "execution_count": 6,
   "metadata": {},
   "outputs": [],
   "source": [
    "df = pd.DataFrame({\n",
    "    'header': pd.Series(header_dict),\n",
    "    'resolution': pd.Series(resolution_dict),\n",
    "    'date': pd.Series(date_dict)\n",
    "})\n"
   ]
  },
  {
   "cell_type": "code",
   "execution_count": 7,
   "metadata": {},
   "outputs": [
    {
     "name": "stderr",
     "output_type": "stream",
     "text": [
      "100%|██████████| 39150/39150 [00:17<00:00, 2218.47it/s]\n"
     ]
    }
   ],
   "source": [
    "def get_smiles(file_path):\n",
    "    try:\n",
    "        result = subprocess.run(\n",
    "            [\"obabel\", str(file_path), \"-osmi\", \"--quiet\"],\n",
    "            stdout=subprocess.PIPE,\n",
    "            stderr=subprocess.PIPE,\n",
    "            text=True\n",
    "        )\n",
    "        return result.stdout.split('\\t')[0].strip() if result.returncode == 0 else \"\"\n",
    "    except:\n",
    "        return \"\"\n",
    "\n",
    "def process_pdb_id(pdb_id):\n",
    "    ligand_dir = base_path / pdb_id\n",
    "    mol2_files = list(ligand_dir.glob(\"*.mol2\"))\n",
    "    sdf_files = list(ligand_dir.glob(\"*.sdf\"))\n",
    "    if mol2_files:\n",
    "        return get_smiles(mol2_files[0])\n",
    "    elif sdf_files:\n",
    "        return get_smiles(sdf_files[0])\n",
    "    else:\n",
    "        return \"\"\n",
    "\n",
    "smiles_list = Parallel(n_jobs=-1)(\n",
    "    delayed(lambda pdb_id: (pdb_id, process_pdb_id(pdb_id)))(pdb_id) for pdb_id in tqdm(pdb_ids)\n",
    ")\n",
    "smiles_dict = dict(smiles_list)\n",
    "df['smiles'] = pd.Series(smiles_dict)\n"
   ]
  },
  {
   "cell_type": "code",
   "execution_count": 8,
   "metadata": {},
   "outputs": [
    {
     "name": "stderr",
     "output_type": "stream",
     "text": [
      "100%|██████████| 39150/39150 [01:54<00:00, 340.63it/s]\n"
     ]
    }
   ],
   "source": [
    "def get_sequence(pdb_file_path):\n",
    "    seqs = list(get_seq_(pdb_file_path).values())\n",
    "    unique_seqs = list(set(seqs))\n",
    "    if len(unique_seqs) == 1:\n",
    "        return unique_seqs[0]\n",
    "    else:\n",
    "        return \":\".join(unique_seqs)\n",
    "\n",
    "sequence_dict = {}\n",
    "for pdb_id in tqdm(pdb_ids):\n",
    "    pdb_file = base_path / pdb_id / f\"{pdb_id}.pdb\"\n",
    "    try:\n",
    "        sequence = get_sequence(str(pdb_file))\n",
    "    except:\n",
    "        sequence = \"\"\n",
    "    sequence_dict[pdb_id] = sequence\n",
    "df['seq'] = pd.Series(sequence_dict)\n"
   ]
  },
  {
   "cell_type": "code",
   "execution_count": 9,
   "metadata": {},
   "outputs": [],
   "source": [
    "df.index.name = 'pdb_id'\n",
    "df = df[['header', 'smiles', 'seq', 'resolution', 'date']]\n"
   ]
  },
  {
   "cell_type": "code",
   "execution_count": 10,
   "metadata": {},
   "outputs": [
    {
     "data": {
      "text/html": [
       "<div>\n",
       "<style scoped>\n",
       "    .dataframe tbody tr th:only-of-type {\n",
       "        vertical-align: middle;\n",
       "    }\n",
       "\n",
       "    .dataframe tbody tr th {\n",
       "        vertical-align: top;\n",
       "    }\n",
       "\n",
       "    .dataframe thead th {\n",
       "        text-align: right;\n",
       "    }\n",
       "</style>\n",
       "<table border=\"1\" class=\"dataframe\">\n",
       "  <thead>\n",
       "    <tr style=\"text-align: right;\">\n",
       "      <th></th>\n",
       "      <th>header</th>\n",
       "      <th>smiles</th>\n",
       "      <th>seq</th>\n",
       "      <th>resolution</th>\n",
       "      <th>date</th>\n",
       "    </tr>\n",
       "    <tr>\n",
       "      <th>pdb_id</th>\n",
       "      <th></th>\n",
       "      <th></th>\n",
       "      <th></th>\n",
       "      <th></th>\n",
       "      <th></th>\n",
       "    </tr>\n",
       "  </thead>\n",
       "  <tbody>\n",
       "    <tr>\n",
       "      <th>2uw1_bioml_1_FE_chains_A</th>\n",
       "      <td>oxidoreductase</td>\n",
       "      <td>[Fe]</td>\n",
       "      <td>MQVTHSMPPQKLEIFKSLDDWARNNVLIHLKSVEKSWQPQDYLPDP...</td>\n",
       "      <td>1.95</td>\n",
       "      <td>2007-05-08</td>\n",
       "    </tr>\n",
       "    <tr>\n",
       "      <th>7zhz_bioml_1_BG6_chains_B</th>\n",
       "      <td>oxidoreductase</td>\n",
       "      <td>[C@@H]1([C@@H]([C@H]([C@@H]([C@H](O1)COP(=O)(O...</td>\n",
       "      <td>MSEEQSHADQDAYVADVDGILDVLRAQVLERKPDDIFQFISKSALS...</td>\n",
       "      <td>2.50</td>\n",
       "      <td>2022-12-14</td>\n",
       "    </tr>\n",
       "    <tr>\n",
       "      <th>1kjy_bioml_1_GDP_chains_A_B</th>\n",
       "      <td>signaling protein</td>\n",
       "      <td>P(=O)(O)(O)O[P@@](=O)(O)OC[C@H]1O[C@H]([C@@H](...</td>\n",
       "      <td>GAREVKLLLLGAGESGKSTIVKQMKIIHEAGYSEEECKQYKAVVYS...</td>\n",
       "      <td>2.70</td>\n",
       "      <td>2002-05-08</td>\n",
       "    </tr>\n",
       "    <tr>\n",
       "      <th>2c4f_bioml_1_GIL_chains_H</th>\n",
       "      <td>hydrolase</td>\n",
       "      <td>c1(cccc(c1)OC1=[N]=C(C(=C([C@H]1F)N(C(C)C)C(C)...</td>\n",
       "      <td>IVGGKVCPKGECPWQVLLLVNGAQLCGGTLINTIWVVSAAHCFDKI...</td>\n",
       "      <td>1.72</td>\n",
       "      <td>2006-10-18</td>\n",
       "    </tr>\n",
       "    <tr>\n",
       "      <th>8hwe_bioml_1_ATP_chains_C_D</th>\n",
       "      <td>viral protein</td>\n",
       "      <td>P(=O)(O)(O)O[P@@](=O)(O)O[P@](=O)(O)OC[C@H]1O[...</td>\n",
       "      <td>MDAAIRGNDVIFVLKTIGVPSACRQNEDPRFVEAFKCDELERYIDN...</td>\n",
       "      <td>3.30</td>\n",
       "      <td>2024-01-10</td>\n",
       "    </tr>\n",
       "    <tr>\n",
       "      <th>...</th>\n",
       "      <td>...</td>\n",
       "      <td>...</td>\n",
       "      <td>...</td>\n",
       "      <td>...</td>\n",
       "      <td>...</td>\n",
       "    </tr>\n",
       "    <tr>\n",
       "      <th>6h8t_bioml_1_TXY_chains_A</th>\n",
       "      <td>metal binding protein</td>\n",
       "      <td>N[C@H](C=O)CC1=CC=C([C@H](C1)O)O</td>\n",
       "      <td>IPEYVDWRQKGAVTPVKNQGSCGSCWAFSAVVTIEGIIKIRTGNLN...</td>\n",
       "      <td>2.10</td>\n",
       "      <td>2018-09-12</td>\n",
       "    </tr>\n",
       "    <tr>\n",
       "      <th>2vmq_bioml_1_GLY_chains_A</th>\n",
       "      <td>transferase</td>\n",
       "      <td>NCC(=O)[O-]</td>\n",
       "      <td>MKYLPQQDPQVFAAIEQERKRQHAKIELIASENFVSRAVMEAQGSV...</td>\n",
       "      <td>1.67</td>\n",
       "      <td>2008-12-16</td>\n",
       "    </tr>\n",
       "    <tr>\n",
       "      <th>6kq1_bioml_1_HEC_chains_A</th>\n",
       "      <td>electron transport</td>\n",
       "      <td>[Fe@]123[N]4=C5C=c6n3c(=CC3=[N]2C(=Cc2n1c(C=C4...</td>\n",
       "      <td>QDGEALFKSKPCAACHSIDAKMVGPALKEVAAKYAGQEGAADLLAG...</td>\n",
       "      <td>1.57</td>\n",
       "      <td>2020-08-19</td>\n",
       "    </tr>\n",
       "    <tr>\n",
       "      <th>4g1v_bioml_1_HEM_chains_A</th>\n",
       "      <td>oxidoreductase</td>\n",
       "      <td>C1=c2c(c(c3=CC4=[N]5C(=Cc6c(c(c7C=C8C(=C(C1=[N...</td>\n",
       "      <td>MLAEKTRSIIKATVPVLEQQGTVITRTFYKNMLTEHTELLNIFNRT...</td>\n",
       "      <td>2.10</td>\n",
       "      <td>2012-11-14</td>\n",
       "    </tr>\n",
       "    <tr>\n",
       "      <th>8ire_bioml_1_HEM_chains_E_F</th>\n",
       "      <td>photosynthesis</td>\n",
       "      <td>C1=c2c(c(c3=CC4=[N]5C(=Cc6c(c(c7C=C8C(=C(C1=[N...</td>\n",
       "      <td>XETITYVFIFACIIALFFFAIFFREPPRITKK:NSIFATNRDQESS...</td>\n",
       "      <td>2.25</td>\n",
       "      <td>2024-01-17</td>\n",
       "    </tr>\n",
       "  </tbody>\n",
       "</table>\n",
       "<p>39150 rows × 5 columns</p>\n",
       "</div>"
      ],
      "text/plain": [
       "                                            header  \\\n",
       "pdb_id                                               \n",
       "2uw1_bioml_1_FE_chains_A            oxidoreductase   \n",
       "7zhz_bioml_1_BG6_chains_B           oxidoreductase   \n",
       "1kjy_bioml_1_GDP_chains_A_B      signaling protein   \n",
       "2c4f_bioml_1_GIL_chains_H                hydrolase   \n",
       "8hwe_bioml_1_ATP_chains_C_D          viral protein   \n",
       "...                                            ...   \n",
       "6h8t_bioml_1_TXY_chains_A    metal binding protein   \n",
       "2vmq_bioml_1_GLY_chains_A              transferase   \n",
       "6kq1_bioml_1_HEC_chains_A       electron transport   \n",
       "4g1v_bioml_1_HEM_chains_A           oxidoreductase   \n",
       "8ire_bioml_1_HEM_chains_E_F         photosynthesis   \n",
       "\n",
       "                                                                        smiles  \\\n",
       "pdb_id                                                                           \n",
       "2uw1_bioml_1_FE_chains_A                                                  [Fe]   \n",
       "7zhz_bioml_1_BG6_chains_B    [C@@H]1([C@@H]([C@H]([C@@H]([C@H](O1)COP(=O)(O...   \n",
       "1kjy_bioml_1_GDP_chains_A_B  P(=O)(O)(O)O[P@@](=O)(O)OC[C@H]1O[C@H]([C@@H](...   \n",
       "2c4f_bioml_1_GIL_chains_H    c1(cccc(c1)OC1=[N]=C(C(=C([C@H]1F)N(C(C)C)C(C)...   \n",
       "8hwe_bioml_1_ATP_chains_C_D  P(=O)(O)(O)O[P@@](=O)(O)O[P@](=O)(O)OC[C@H]1O[...   \n",
       "...                                                                        ...   \n",
       "6h8t_bioml_1_TXY_chains_A                     N[C@H](C=O)CC1=CC=C([C@H](C1)O)O   \n",
       "2vmq_bioml_1_GLY_chains_A                                          NCC(=O)[O-]   \n",
       "6kq1_bioml_1_HEC_chains_A    [Fe@]123[N]4=C5C=c6n3c(=CC3=[N]2C(=Cc2n1c(C=C4...   \n",
       "4g1v_bioml_1_HEM_chains_A    C1=c2c(c(c3=CC4=[N]5C(=Cc6c(c(c7C=C8C(=C(C1=[N...   \n",
       "8ire_bioml_1_HEM_chains_E_F  C1=c2c(c(c3=CC4=[N]5C(=Cc6c(c(c7C=C8C(=C(C1=[N...   \n",
       "\n",
       "                                                                           seq  \\\n",
       "pdb_id                                                                           \n",
       "2uw1_bioml_1_FE_chains_A     MQVTHSMPPQKLEIFKSLDDWARNNVLIHLKSVEKSWQPQDYLPDP...   \n",
       "7zhz_bioml_1_BG6_chains_B    MSEEQSHADQDAYVADVDGILDVLRAQVLERKPDDIFQFISKSALS...   \n",
       "1kjy_bioml_1_GDP_chains_A_B  GAREVKLLLLGAGESGKSTIVKQMKIIHEAGYSEEECKQYKAVVYS...   \n",
       "2c4f_bioml_1_GIL_chains_H    IVGGKVCPKGECPWQVLLLVNGAQLCGGTLINTIWVVSAAHCFDKI...   \n",
       "8hwe_bioml_1_ATP_chains_C_D  MDAAIRGNDVIFVLKTIGVPSACRQNEDPRFVEAFKCDELERYIDN...   \n",
       "...                                                                        ...   \n",
       "6h8t_bioml_1_TXY_chains_A    IPEYVDWRQKGAVTPVKNQGSCGSCWAFSAVVTIEGIIKIRTGNLN...   \n",
       "2vmq_bioml_1_GLY_chains_A    MKYLPQQDPQVFAAIEQERKRQHAKIELIASENFVSRAVMEAQGSV...   \n",
       "6kq1_bioml_1_HEC_chains_A    QDGEALFKSKPCAACHSIDAKMVGPALKEVAAKYAGQEGAADLLAG...   \n",
       "4g1v_bioml_1_HEM_chains_A    MLAEKTRSIIKATVPVLEQQGTVITRTFYKNMLTEHTELLNIFNRT...   \n",
       "8ire_bioml_1_HEM_chains_E_F  XETITYVFIFACIIALFFFAIFFREPPRITKK:NSIFATNRDQESS...   \n",
       "\n",
       "                             resolution       date  \n",
       "pdb_id                                              \n",
       "2uw1_bioml_1_FE_chains_A           1.95 2007-05-08  \n",
       "7zhz_bioml_1_BG6_chains_B          2.50 2022-12-14  \n",
       "1kjy_bioml_1_GDP_chains_A_B        2.70 2002-05-08  \n",
       "2c4f_bioml_1_GIL_chains_H          1.72 2006-10-18  \n",
       "8hwe_bioml_1_ATP_chains_C_D        3.30 2024-01-10  \n",
       "...                                 ...        ...  \n",
       "6h8t_bioml_1_TXY_chains_A          2.10 2018-09-12  \n",
       "2vmq_bioml_1_GLY_chains_A          1.67 2008-12-16  \n",
       "6kq1_bioml_1_HEC_chains_A          1.57 2020-08-19  \n",
       "4g1v_bioml_1_HEM_chains_A          2.10 2012-11-14  \n",
       "8ire_bioml_1_HEM_chains_E_F        2.25 2024-01-17  \n",
       "\n",
       "[39150 rows x 5 columns]"
      ]
     },
     "execution_count": 10,
     "metadata": {},
     "output_type": "execute_result"
    }
   ],
   "source": [
    "df"
   ]
  },
  {
   "cell_type": "code",
   "execution_count": 11,
   "metadata": {},
   "outputs": [],
   "source": [
    "df.to_csv('info.csv')\n"
   ]
  }
 ],
 "metadata": {
  "kernelspec": {
   "display_name": "NERSC Python",
   "language": "python",
   "name": "python3"
  },
  "language_info": {
   "codemirror_mode": {
    "name": "ipython",
    "version": 3
   },
   "file_extension": ".py",
   "mimetype": "text/x-python",
   "name": "python",
   "nbconvert_exporter": "python",
   "pygments_lexer": "ipython3",
   "version": "3.10.15"
  },
  "vscode": {
   "interpreter": {
    "hash": "32a191c378b903fda7a216eb7a031a56160c3958e4c38acfb4631dd4f0c4e0af"
   }
  }
 },
 "nbformat": 4,
 "nbformat_minor": 4
}
